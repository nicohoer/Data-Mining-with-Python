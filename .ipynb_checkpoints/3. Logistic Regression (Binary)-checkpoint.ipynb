{
 "cells": [
  {
   "cell_type": "markdown",
   "id": "naval-twelve",
   "metadata": {},
   "source": [
    "# Logistic Regression (Binary)"
   ]
  },
  {
   "cell_type": "markdown",
   "id": "working-crisis",
   "metadata": {},
   "source": [
    "**Short Theory Summary:**"
   ]
  },
  {
   "cell_type": "markdown",
   "id": "external-civilian",
   "metadata": {},
   "source": [
    "A Logistic Regression predicts the probability of the target being a \"0\" or \"1\". Using the Logistic(\"Sigmoid\") function it converts the linear inputs into the target range between 0 and 1 (exclusive). Using a threshold, all the probabilites are then converted to either 0 or 1.\n",
    "The model is fitted using Maximum Likelihood Estimation. "
   ]
  },
  {
   "cell_type": "markdown",
   "id": "reduced-chambers",
   "metadata": {},
   "source": [
    "***"
   ]
  },
  {
   "cell_type": "markdown",
   "id": "fiscal-memphis",
   "metadata": {},
   "source": [
    "## Predicting Heart Disease with Logistic Regression:"
   ]
  },
  {
   "cell_type": "markdown",
   "id": "musical-occupation",
   "metadata": {},
   "source": [
    "* using a dataset from https://web.stanford.edu/~hastie/ElemStatLearn/datasets I will predict the probability of a patient having a heart disease from some health information from the patient.\n",
    "* info on data: https://web.stanford.edu/~hastie/ElemStatLearn/datasets/SAheart.info.txt"
   ]
  },
  {
   "cell_type": "markdown",
   "id": "unavailable-video",
   "metadata": {},
   "source": [
    "Getting the data directly from website:"
   ]
  },
  {
   "cell_type": "code",
   "execution_count": 1,
   "id": "loving-province",
   "metadata": {
    "scrolled": true
   },
   "outputs": [
    {
     "data": {
      "text/html": [
       "<div>\n",
       "<style scoped>\n",
       "    .dataframe tbody tr th:only-of-type {\n",
       "        vertical-align: middle;\n",
       "    }\n",
       "\n",
       "    .dataframe tbody tr th {\n",
       "        vertical-align: top;\n",
       "    }\n",
       "\n",
       "    .dataframe thead th {\n",
       "        text-align: right;\n",
       "    }\n",
       "</style>\n",
       "<table border=\"1\" class=\"dataframe\">\n",
       "  <thead>\n",
       "    <tr style=\"text-align: right;\">\n",
       "      <th></th>\n",
       "      <th>sbp</th>\n",
       "      <th>tobacco</th>\n",
       "      <th>ldl</th>\n",
       "      <th>adiposity</th>\n",
       "      <th>famhist</th>\n",
       "      <th>typea</th>\n",
       "      <th>obesity</th>\n",
       "      <th>alcohol</th>\n",
       "      <th>age</th>\n",
       "      <th>chd</th>\n",
       "    </tr>\n",
       "  </thead>\n",
       "  <tbody>\n",
       "    <tr>\n",
       "      <th>0</th>\n",
       "      <td>160</td>\n",
       "      <td>12.00</td>\n",
       "      <td>5.73</td>\n",
       "      <td>23.11</td>\n",
       "      <td>Present</td>\n",
       "      <td>49</td>\n",
       "      <td>25.30</td>\n",
       "      <td>97.20</td>\n",
       "      <td>52</td>\n",
       "      <td>1</td>\n",
       "    </tr>\n",
       "    <tr>\n",
       "      <th>1</th>\n",
       "      <td>144</td>\n",
       "      <td>0.01</td>\n",
       "      <td>4.41</td>\n",
       "      <td>28.61</td>\n",
       "      <td>Absent</td>\n",
       "      <td>55</td>\n",
       "      <td>28.87</td>\n",
       "      <td>2.06</td>\n",
       "      <td>63</td>\n",
       "      <td>1</td>\n",
       "    </tr>\n",
       "  </tbody>\n",
       "</table>\n",
       "</div>"
      ],
      "text/plain": [
       "   sbp  tobacco   ldl  adiposity  famhist  typea  obesity  alcohol  age  chd\n",
       "0  160    12.00  5.73      23.11  Present     49    25.30    97.20   52    1\n",
       "1  144     0.01  4.41      28.61   Absent     55    28.87     2.06   63    1"
      ]
     },
     "execution_count": 1,
     "metadata": {},
     "output_type": "execute_result"
    }
   ],
   "source": [
    "import pandas as pd\n",
    "import numpy as np\n",
    "\n",
    "heart = pd.read_csv(\"https://web.stanford.edu/~hastie/ElemStatLearn/datasets/SAheart.data\", index_col = 0)\n",
    "heart = heart.reset_index().drop([\"row.names\"], axis = \"columns\")\n",
    "heart.head(2)"
   ]
  },
  {
   "cell_type": "markdown",
   "id": "located-stress",
   "metadata": {},
   "source": [
    "**The columns:**"
   ]
  },
  {
   "cell_type": "markdown",
   "id": "stuck-belize",
   "metadata": {},
   "source": [
    "* sbp: systolic blood pressure\n",
    "* tobacco\t\tcumulative tobacco (kg)\n",
    "* adiposity\n",
    "* famhist: family history of heart disease (Present, Absent)\n",
    "* obesity\n",
    "* alcohol: current alcohol consumption\n",
    "* age: age at onset\n",
    "* **chd: target: coronary heart disease (1 = yes, 0 = no)**"
   ]
  },
  {
   "cell_type": "markdown",
   "id": "organized-terrain",
   "metadata": {},
   "source": [
    "Convert famhist to integer:"
   ]
  },
  {
   "cell_type": "code",
   "execution_count": 2,
   "id": "sticky-lotus",
   "metadata": {},
   "outputs": [],
   "source": [
    "heart.loc[heart.famhist == \"Absent\", \"famhist\"] = \"0\"\n",
    "heart.loc[heart.famhist == \"Present\", \"famhist\"] = \"1\"\n",
    "heart[[\"famhist\"]] = heart[[\"famhist\"]].apply(pd.to_numeric)"
   ]
  },
  {
   "cell_type": "code",
   "execution_count": 3,
   "id": "major-inclusion",
   "metadata": {},
   "outputs": [],
   "source": [
    "features = heart.drop(\"chd\", axis = \"columns\")\n",
    "target = heart[\"chd\"]\n",
    "has_d = heart.loc[heart.chd == 1]\n",
    "no_d = heart.loc[heart.chd == 0]"
   ]
  },
  {
   "cell_type": "markdown",
   "id": "cooperative-review",
   "metadata": {},
   "source": [
    "### Exploring The Data With Boxplots"
   ]
  },
  {
   "cell_type": "markdown",
   "id": "foster-queensland",
   "metadata": {},
   "source": [
    "Boxplots are a common tool to visualize features and mostly provide information about their distribution.\n",
    "* Whiskers depict the range of values (usually defined as the lower quartile - 1,5 * IQR and upper quartile + 1,5 * IQR)\n",
    "* Lower and upper quartiles are the edge of the box\n",
    "* Line in the box is the median\n",
    "* Outliers are single data points outside whiskers "
   ]
  },
  {
   "cell_type": "markdown",
   "id": "hidden-habitat",
   "metadata": {},
   "source": [
    "**Comparing Age for patients with and without heart disease:**"
   ]
  },
  {
   "cell_type": "code",
   "execution_count": 4,
   "id": "sitting-invention",
   "metadata": {},
   "outputs": [
    {
     "data": {
      "image/png": "[encoded data removed]",
      "text/plain": [
       "<Figure size 432x288 with 1 Axes>"
      ]
     },
     "metadata": {},
     "output_type": "display_data"
    }
   ],
   "source": [
    "import matplotlib.pyplot as plt\n",
    "plt.style.use(\"fivethirtyeight\")\n",
    "age_box = plt.boxplot([no_d[\"age\"], has_d[\"age\"]], labels = [\"No Heart Disease\", \"Heart Disease\"], vert = False,  patch_artist=True)\n",
    "for patch in age_box[\"boxes\"]: patch.set_facecolor(\"#66a1ff\")\n",
    "plt.xlabel(\"Age\")\n",
    "plt.show()"
   ]
  },
  {
   "cell_type": "markdown",
   "id": "identified-antarctica",
   "metadata": {},
   "source": [
    "* Patients with a Heart Disease tend to be older but are still existant in every age group."
   ]
  },
  {
   "cell_type": "markdown",
   "id": "copyrighted-window",
   "metadata": {},
   "source": [
    "**Comparing Tobacco Consumption:**"
   ]
  },
  {
   "cell_type": "code",
   "execution_count": 5,
   "id": "arctic-cause",
   "metadata": {},
   "outputs": [
    {
     "data": {
      "image/png": "[encoded data removed]",
      "text/plain": [
       "<Figure size 432x288 with 1 Axes>"
      ]
     },
     "metadata": {},
     "output_type": "display_data"
    }
   ],
   "source": [
    "tob_box = plt.boxplot([no_d[\"tobacco\"], has_d[\"tobacco\"]], labels = [\"No Heart Disease\", \"Heart Disease\"], vert = False,  patch_artist=True)\n",
    "for patch in tob_box[\"boxes\"]: patch.set_facecolor(\"#66a1ff\")\n",
    "plt.xlabel(\"cumulative tobacco (kg)\")\n",
    "plt.show()"
   ]
  },
  {
   "cell_type": "markdown",
   "id": "preliminary-reference",
   "metadata": {},
   "source": [
    "* Patients who had a Heart Disease also tend to have higher cumulative tobacco consumption despite many patients with tobacco consumption between 0 and 5 kg who didnt have a heart disease. Additionally, all patients with tobacco consmuption of more than 20kg ended up having a heart disease."
   ]
  },
  {
   "cell_type": "markdown",
   "id": "rubber-birthday",
   "metadata": {},
   "source": [
    "**Comparing Blood Pressure:**"
   ]
  },
  {
   "cell_type": "code",
   "execution_count": 6,
   "id": "sitting-drilling",
   "metadata": {
    "scrolled": true
   },
   "outputs": [
    {
     "data": {
      "image/png": "[encoded data removed]",
      "text/plain": [
       "<Figure size 432x288 with 1 Axes>"
      ]
     },
     "metadata": {},
     "output_type": "display_data"
    }
   ],
   "source": [
    "blo_box = plt.boxplot([no_d[\"sbp\"], has_d[\"sbp\"]], labels = [\"No Heart Disease\", \"Heart Disease\"], vert = False,  patch_artist=True, showmeans = True)\n",
    "for patch in blo_box[\"boxes\"]: patch.set_facecolor(\"#66a1ff\")\n",
    "plt.xlabel(\"Systolic Blood Pressure\")\n",
    "plt.show()"
   ]
  },
  {
   "cell_type": "code",
   "execution_count": null,
   "id": "narrative-evaluation",
   "metadata": {},
   "outputs": [],
   "source": []
  },
  {
   "cell_type": "markdown",
   "id": "incident-madness",
   "metadata": {},
   "source": [
    "## Modelling a Logistic Regression:"
   ]
  },
  {
   "cell_type": "markdown",
   "id": "straight-resort",
   "metadata": {},
   "source": [
    "**Train-Test-Splitting:**"
   ]
  },
  {
   "cell_type": "code",
   "execution_count": 7,
   "id": "boring-authority",
   "metadata": {},
   "outputs": [],
   "source": [
    "from sklearn.model_selection import train_test_split\n",
    "X_train, X_test, y_train, y_test = train_test_split(features, target, test_size=0.2, random_state=42)"
   ]
  },
  {
   "cell_type": "markdown",
   "id": "exposed-target",
   "metadata": {},
   "source": [
    "**Instantiating Model:**"
   ]
  },
  {
   "cell_type": "code",
   "execution_count": 8,
   "id": "frequent-bible",
   "metadata": {},
   "outputs": [],
   "source": [
    "from sklearn.linear_model import LogisticRegression\n",
    "lg = LogisticRegression(random_state = 42, max_iter = 200)\n",
    "lg.fit(X_train, y_train)\n",
    "y_pred = lg.predict(X_test)\n",
    "y_proba = pd.DataFrame(lg.predict_proba(X_test))[1]"
   ]
  },
  {
   "cell_type": "markdown",
   "id": "social-archives",
   "metadata": {},
   "source": [
    "Sklearn uses a default threshold of 0,5 to predict the final target value of either 0 or 1. "
   ]
  },
  {
   "cell_type": "markdown",
   "id": "christian-bachelor",
   "metadata": {},
   "source": [
    "**Evaluating Performance and comparing thresholds:**"
   ]
  },
  {
   "cell_type": "markdown",
   "id": "concrete-holiday",
   "metadata": {},
   "source": [
    "Default threshold = 0.5:"
   ]
  },
  {
   "cell_type": "markdown",
   "id": "offshore-paper",
   "metadata": {},
   "source": [
    "*Accuracy: proportion of correctly identifed classes in prediction*"
   ]
  },
  {
   "cell_type": "code",
   "execution_count": 9,
   "id": "funded-plate",
   "metadata": {},
   "outputs": [
    {
     "data": {
      "text/plain": [
       "0.7634408602150538"
      ]
     },
     "execution_count": 9,
     "metadata": {},
     "output_type": "execute_result"
    }
   ],
   "source": [
    "from sklearn.metrics import accuracy_score\n",
    "accuracy_score(y_test, y_pred)"
   ]
  },
  {
   "cell_type": "markdown",
   "id": "meaning-drive",
   "metadata": {},
   "source": [
    "*Area under the curve:*"
   ]
  },
  {
   "cell_type": "code",
   "execution_count": 10,
   "id": "racial-architect",
   "metadata": {
    "scrolled": true
   },
   "outputs": [
    {
     "data": {
      "text/plain": [
       "0.7200897308075773"
      ]
     },
     "execution_count": 10,
     "metadata": {},
     "output_type": "execute_result"
    }
   ],
   "source": [
    "from sklearn.metrics import roc_auc_score\n",
    "roc_auc_score(y_test, y_pred)"
   ]
  },
  {
   "cell_type": "markdown",
   "id": "dependent-devices",
   "metadata": {},
   "source": [
    "Comparing different thresholds:"
   ]
  },
  {
   "cell_type": "code",
   "execution_count": 11,
   "id": "satellite-numbers",
   "metadata": {},
   "outputs": [],
   "source": [
    "def prob_to_class(x, thresh):\n",
    "    if (x > thresh):\n",
    "        return 1\n",
    "    else:\n",
    "        return 0"
   ]
  },
  {
   "cell_type": "code",
   "execution_count": 12,
   "id": "paperback-sewing",
   "metadata": {},
   "outputs": [
    {
     "name": "stdout",
     "output_type": "stream",
     "text": [
      "Threshold\tAccuracy\tAUC-Score\n",
      "0.3\t0.6881720430107527\t0.6981555333998006\n",
      "0.35\t0.6881720430107527\t0.6856929212362911\n",
      "0.4\t0.7634408602150538\t0.7387836490528416\n",
      "0.45\t0.7634408602150538\t0.7325523429710867\n",
      "0.5\t0.7634408602150538\t0.7200897308075773\n",
      "0.55\t0.7634408602150538\t0.7013958125623131\n",
      "0.6\t0.7419354838709677\t0.6657527417746759\n",
      "0.7\t0.7204301075268817\t0.6176470588235294\n"
     ]
    }
   ],
   "source": [
    "thresholds = [0.3, 0.35, 0.4, 0.45, 0.5, 0.55, 0.6, 0.7]\n",
    "\n",
    "print(\"Threshold\\tAccuracy\\tAUC-Score\")\n",
    "for t in thresholds:\n",
    "    y_pred2 = y_proba.apply(prob_to_class, args=(t,))\n",
    "    print(str(t) + \"\\t\" + str(accuracy_score(y_test, y_pred2))  + \"\\t\" + str(roc_auc_score(y_test, y_pred2)))\n",
    "    "
   ]
  },
  {
   "cell_type": "markdown",
   "id": "reported-confirmation",
   "metadata": {},
   "source": [
    "After comparing different thresholds it still seems like the default threshold of 0.5 has the highest accuracy and area-under-the-curve."
   ]
  },
  {
   "cell_type": "markdown",
   "id": "catholic-exchange",
   "metadata": {},
   "source": [
    "*Confusion Matrix:*"
   ]
  },
  {
   "cell_type": "code",
   "execution_count": 13,
   "id": "fitting-classification",
   "metadata": {
    "scrolled": true
   },
   "outputs": [
    {
     "data": {
      "image/png": "[encoded data removed]",
      "text/plain": [
       "<Figure size 432x288 with 2 Axes>"
      ]
     },
     "metadata": {},
     "output_type": "display_data"
    }
   ],
   "source": [
    "with plt.style.context(\"seaborn-dark\"):\n",
    "    from sklearn.metrics import plot_confusion_matrix\n",
    "    plot_confusion_matrix(lg, X_test, y_test)\n",
    "    plt.show()"
   ]
  },
  {
   "cell_type": "markdown",
   "id": "complete-currency",
   "metadata": {},
   "source": [
    "* Sensivitiy (True Positive rate) measures the proportion of positives that are correctly identified; here: 19 / 34\n",
    "* Specificity (True Negative rate) measures the proportion of negatives that are correctly identified; here: 51 / 59"
   ]
  },
  {
   "cell_type": "markdown",
   "id": "better-drunk",
   "metadata": {},
   "source": [
    "In a machine learning context sensitivity is commonly referred to as **recall**."
   ]
  },
  {
   "cell_type": "code",
   "execution_count": 14,
   "id": "powered-syracuse",
   "metadata": {},
   "outputs": [
    {
     "data": {
      "text/plain": [
       "0.5588235294117647"
      ]
     },
     "execution_count": 14,
     "metadata": {},
     "output_type": "execute_result"
    }
   ],
   "source": [
    "from sklearn.metrics import recall_score\n",
    "recall_score(y_test, y_pred)"
   ]
  },
  {
   "cell_type": "markdown",
   "id": "after-flush",
   "metadata": {},
   "source": [
    "**precision** is the proportion of correctly identified positives of all positives(PPV)"
   ]
  },
  {
   "cell_type": "code",
   "execution_count": 15,
   "id": "threaded-heather",
   "metadata": {},
   "outputs": [
    {
     "data": {
      "text/plain": [
       "0.7307692307692307"
      ]
     },
     "execution_count": 15,
     "metadata": {},
     "output_type": "execute_result"
    }
   ],
   "source": [
    "from sklearn.metrics import precision_score\n",
    "precision_score(y_test, y_pred)"
   ]
  },
  {
   "cell_type": "markdown",
   "id": "sufficient-fireplace",
   "metadata": {},
   "source": [
    "*The naive classification is proportion of all positives of all samples.*"
   ]
  },
  {
   "cell_type": "markdown",
   "id": "floppy-nirvana",
   "metadata": {},
   "source": [
    "Even though the sensitivity of 0.5588 is an improvement to the naive classification, it's still not a very good value especially considering that detecting possible heart disease is crucial."
   ]
  },
  {
   "cell_type": "markdown",
   "id": "amber-jamaica",
   "metadata": {},
   "source": [
    "It might be a good idea to look for lower thresholds in order to increase the sensitivity:"
   ]
  },
  {
   "cell_type": "code",
   "execution_count": 18,
   "id": "strategic-bobby",
   "metadata": {},
   "outputs": [
    {
     "name": "stdout",
     "output_type": "stream",
     "text": [
      "Threshold\tRecall\n",
      "0.3\t0.7352941176470589\n",
      "0.35\t0.6764705882352942\n",
      "0.4\t0.6470588235294118\n",
      "0.45\t0.6176470588235294\n",
      "0.5\t0.5588235294117647\n",
      "0.6\t0.38235294117647056\n"
     ]
    }
   ],
   "source": [
    "thresholds = [0.3, 0.35, 0.4, 0.45, 0.5, 0.6]\n",
    "\n",
    "print(\"Threshold\\tRecall\")\n",
    "for t in thresholds:\n",
    "    y_pred2 = y_proba.apply(prob_to_class, args=(t,))\n",
    "    print(str(t) + \"\\t\" + str(recall_score(y_test, y_pred2)))"
   ]
  },
  {
   "cell_type": "markdown",
   "id": "convertible-respondent",
   "metadata": {},
   "source": [
    "* A threshold of 0.4 has an improved sensitivity of 0.647 as well as an accuracy of 0.763."
   ]
  },
  {
   "cell_type": "code",
   "execution_count": 32,
   "id": "electrical-parker",
   "metadata": {},
   "outputs": [
    {
     "name": "stdout",
     "output_type": "stream",
     "text": [
      "Threshold: \t0.40\n",
      "Accuracy: \t0.7634408602150538\n",
      "Sensitivity: \t0.6470588235294118\n"
     ]
    }
   ],
   "source": [
    "final_predictions = y_proba.apply(prob_to_class, args=(0.40,))\n",
    "print(\"Threshold: \\t0.40\\n\" + \"Accuracy: \\t\" + str(accuracy_score(y_test, final_predictions)) + \"\\nSensitivity: \\t\" + str(recall_score(y_test, final_predictions)))"
   ]
  }
 ],
 "metadata": {
  "kernelspec": {
   "display_name": "Python 3",
   "language": "python",
   "name": "python3"
  },
  "language_info": {
   "codemirror_mode": {
    "name": "ipython",
    "version": 3
   },
   "file_extension": ".py",
   "mimetype": "text/x-python",
   "name": "python",
   "nbconvert_exporter": "python",
   "pygments_lexer": "ipython3",
   "version": "3.8.3"
  }
 },
 "nbformat": 4,
 "nbformat_minor": 5
}
