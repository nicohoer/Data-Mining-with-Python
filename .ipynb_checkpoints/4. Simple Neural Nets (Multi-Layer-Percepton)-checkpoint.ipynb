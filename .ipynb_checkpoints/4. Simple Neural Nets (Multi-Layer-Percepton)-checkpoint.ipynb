{
 "cells": [
  {
   "cell_type": "markdown",
   "id": "warming-delivery",
   "metadata": {},
   "source": [
    "# Multi-Layer-Perceptron:"
   ]
  },
  {
   "cell_type": "markdown",
   "id": "organized-confidence",
   "metadata": {},
   "source": [
    "**Short Summary: Multi-Layer-Percepton**"
   ]
  },
  {
   "cell_type": "markdown",
   "id": "nervous-crystal",
   "metadata": {},
   "source": [
    "MLPs are a type of feedforward Neural Network which has at least one input, one hidden and one output layer of neurons. Every neuron has inputs from every node in the previous layer and provides output to the next layer. For every connection of neurons a weight determines the importance and direction (positive or negative) of this neuron connection. Then every neuron (except input) uses an *activation function* to calculate the nodes output from the weighted combination of all of its inputs. The most common activation functions are the Sigmoid Function (y(x) = 1 / 1 + exp(-x)) and rectified linear unit (ReLU) which simply converts all negative inputs to 0.\n",
    "<br>Learning occurs in the perceptron by changing connection weights after each piece of data is processed, based on the amount of error in the output compared to the expected result. This is an example of supervised learning, and is carried out through *backpropagation*, a generalization of the least mean squares algorithm in the linear perceptron."
   ]
  },
  {
   "cell_type": "markdown",
   "id": "pressing-black",
   "metadata": {},
   "source": [
    "<mark>Source: my uni course and https://en.wikipedia.org/wiki/Multilayer_perceptron </mark>"
   ]
  },
  {
   "cell_type": "markdown",
   "id": "driving-auckland",
   "metadata": {},
   "source": [
    "## Classifying Breast Cancer "
   ]
  },
  {
   "cell_type": "markdown",
   "id": "supreme-glenn",
   "metadata": {},
   "source": [
    "Regarding MLPs I couldnt find the data we used in our uni course, so instead I decided to use this classic dataset about classifying breast cancer as malignent or  benign from https://goo.gl/U2Uwz2 .  "
   ]
  },
  {
   "cell_type": "code",
   "execution_count": 1,
   "id": "impaired-personality",
   "metadata": {
    "scrolled": true
   },
   "outputs": [
    {
     "data": {
      "text/html": [
       "<div>\n",
       "<style scoped>\n",
       "    .dataframe tbody tr th:only-of-type {\n",
       "        vertical-align: middle;\n",
       "    }\n",
       "\n",
       "    .dataframe tbody tr th {\n",
       "        vertical-align: top;\n",
       "    }\n",
       "\n",
       "    .dataframe thead th {\n",
       "        text-align: right;\n",
       "    }\n",
       "</style>\n",
       "<table border=\"1\" class=\"dataframe\">\n",
       "  <thead>\n",
       "    <tr style=\"text-align: right;\">\n",
       "      <th></th>\n",
       "      <th>mean radius</th>\n",
       "      <th>mean texture</th>\n",
       "      <th>mean perimeter</th>\n",
       "      <th>mean area</th>\n",
       "      <th>mean smoothness</th>\n",
       "      <th>mean compactness</th>\n",
       "      <th>mean concavity</th>\n",
       "      <th>mean concave points</th>\n",
       "      <th>mean symmetry</th>\n",
       "      <th>mean fractal dimension</th>\n",
       "      <th>...</th>\n",
       "      <th>worst radius</th>\n",
       "      <th>worst texture</th>\n",
       "      <th>worst perimeter</th>\n",
       "      <th>worst area</th>\n",
       "      <th>worst smoothness</th>\n",
       "      <th>worst compactness</th>\n",
       "      <th>worst concavity</th>\n",
       "      <th>worst concave points</th>\n",
       "      <th>worst symmetry</th>\n",
       "      <th>worst fractal dimension</th>\n",
       "    </tr>\n",
       "  </thead>\n",
       "  <tbody>\n",
       "    <tr>\n",
       "      <th>0</th>\n",
       "      <td>17.99</td>\n",
       "      <td>10.38</td>\n",
       "      <td>122.8</td>\n",
       "      <td>1001.0</td>\n",
       "      <td>0.11840</td>\n",
       "      <td>0.27760</td>\n",
       "      <td>0.3001</td>\n",
       "      <td>0.14710</td>\n",
       "      <td>0.2419</td>\n",
       "      <td>0.07871</td>\n",
       "      <td>...</td>\n",
       "      <td>25.38</td>\n",
       "      <td>17.33</td>\n",
       "      <td>184.6</td>\n",
       "      <td>2019.0</td>\n",
       "      <td>0.1622</td>\n",
       "      <td>0.6656</td>\n",
       "      <td>0.7119</td>\n",
       "      <td>0.2654</td>\n",
       "      <td>0.4601</td>\n",
       "      <td>0.11890</td>\n",
       "    </tr>\n",
       "    <tr>\n",
       "      <th>1</th>\n",
       "      <td>20.57</td>\n",
       "      <td>17.77</td>\n",
       "      <td>132.9</td>\n",
       "      <td>1326.0</td>\n",
       "      <td>0.08474</td>\n",
       "      <td>0.07864</td>\n",
       "      <td>0.0869</td>\n",
       "      <td>0.07017</td>\n",
       "      <td>0.1812</td>\n",
       "      <td>0.05667</td>\n",
       "      <td>...</td>\n",
       "      <td>24.99</td>\n",
       "      <td>23.41</td>\n",
       "      <td>158.8</td>\n",
       "      <td>1956.0</td>\n",
       "      <td>0.1238</td>\n",
       "      <td>0.1866</td>\n",
       "      <td>0.2416</td>\n",
       "      <td>0.1860</td>\n",
       "      <td>0.2750</td>\n",
       "      <td>0.08902</td>\n",
       "    </tr>\n",
       "    <tr>\n",
       "      <th>2</th>\n",
       "      <td>19.69</td>\n",
       "      <td>21.25</td>\n",
       "      <td>130.0</td>\n",
       "      <td>1203.0</td>\n",
       "      <td>0.10960</td>\n",
       "      <td>0.15990</td>\n",
       "      <td>0.1974</td>\n",
       "      <td>0.12790</td>\n",
       "      <td>0.2069</td>\n",
       "      <td>0.05999</td>\n",
       "      <td>...</td>\n",
       "      <td>23.57</td>\n",
       "      <td>25.53</td>\n",
       "      <td>152.5</td>\n",
       "      <td>1709.0</td>\n",
       "      <td>0.1444</td>\n",
       "      <td>0.4245</td>\n",
       "      <td>0.4504</td>\n",
       "      <td>0.2430</td>\n",
       "      <td>0.3613</td>\n",
       "      <td>0.08758</td>\n",
       "    </tr>\n",
       "  </tbody>\n",
       "</table>\n",
       "<p>3 rows × 30 columns</p>\n",
       "</div>"
      ],
      "text/plain": [
       "   mean radius  mean texture  mean perimeter  mean area  mean smoothness  \\\n",
       "0        17.99         10.38           122.8     1001.0          0.11840   \n",
       "1        20.57         17.77           132.9     1326.0          0.08474   \n",
       "2        19.69         21.25           130.0     1203.0          0.10960   \n",
       "\n",
       "   mean compactness  mean concavity  mean concave points  mean symmetry  \\\n",
       "0           0.27760          0.3001              0.14710         0.2419   \n",
       "1           0.07864          0.0869              0.07017         0.1812   \n",
       "2           0.15990          0.1974              0.12790         0.2069   \n",
       "\n",
       "   mean fractal dimension  ...  worst radius  worst texture  worst perimeter  \\\n",
       "0                 0.07871  ...         25.38          17.33            184.6   \n",
       "1                 0.05667  ...         24.99          23.41            158.8   \n",
       "2                 0.05999  ...         23.57          25.53            152.5   \n",
       "\n",
       "   worst area  worst smoothness  worst compactness  worst concavity  \\\n",
       "0      2019.0            0.1622             0.6656           0.7119   \n",
       "1      1956.0            0.1238             0.1866           0.2416   \n",
       "2      1709.0            0.1444             0.4245           0.4504   \n",
       "\n",
       "   worst concave points  worst symmetry  worst fractal dimension  \n",
       "0                0.2654          0.4601                  0.11890  \n",
       "1                0.1860          0.2750                  0.08902  \n",
       "2                0.2430          0.3613                  0.08758  \n",
       "\n",
       "[3 rows x 30 columns]"
      ]
     },
     "execution_count": 1,
     "metadata": {},
     "output_type": "execute_result"
    }
   ],
   "source": [
    "import pandas as pd\n",
    "import numpy as np\n",
    "from sklearn.datasets import load_breast_cancer\n",
    "data = load_breast_cancer(as_frame = True)\n",
    "target = data.target\n",
    "features = data.data\n",
    "comp = load_breast_cancer(as_frame = True).frame\n",
    "features.head(3)"
   ]
  },
  {
   "cell_type": "markdown",
   "id": "confused-slave",
   "metadata": {},
   "source": [
    "Switching around the binary encoding for the target variable so \"malignent\" is 1:"
   ]
  },
  {
   "cell_type": "code",
   "execution_count": 2,
   "id": "severe-convert",
   "metadata": {},
   "outputs": [
    {
     "data": {
      "text/plain": [
       "0      1\n",
       "1      1\n",
       "2      1\n",
       "3      1\n",
       "4      1\n",
       "      ..\n",
       "564    1\n",
       "565    1\n",
       "566    1\n",
       "567    1\n",
       "568    0\n",
       "Name: target, Length: 569, dtype: int32"
      ]
     },
     "execution_count": 2,
     "metadata": {},
     "output_type": "execute_result"
    }
   ],
   "source": [
    "target.loc[target == 0] = 2\n",
    "target.loc[target == 1] = 0\n",
    "target.loc[target == 2] = 1\n",
    "target"
   ]
  },
  {
   "cell_type": "markdown",
   "id": "charitable-joseph",
   "metadata": {},
   "source": [
    "The **features** are ten different characteristics of cell nuclei in a digitized images of breast mass. For every characteristic there's in total three features containing the \"mean\", \"standard error\" and \"worst\".<br>\n",
    "* radius (mean of distances from center to points on the perimeter)\n",
    "\n",
    "* texture (standard deviation of gray-scale values)\n",
    "\n",
    "* perimeter\n",
    "\n",
    "* area\n",
    "\n",
    "* smoothness (local variation in radius lengths)\n",
    "\n",
    "* compactness (perimeter^2 / area - 1.0)\n",
    "\n",
    "* concavity (severity of concave portions of the contour)\n",
    "\n",
    "* concave points (number of concave portions of the contour)\n",
    "\n",
    "* symmetry\n",
    "\n",
    "* fractal dimension (“coastline approximation” - 1)\n",
    "\n",
    "* **target: 1 = \"benign\"; 0 = \"malignent\"**"
   ]
  },
  {
   "cell_type": "markdown",
   "id": "southeast-public",
   "metadata": {},
   "source": [
    "### Exploring some of the features:"
   ]
  },
  {
   "cell_type": "markdown",
   "id": "cleared-parking",
   "metadata": {},
   "source": [
    "**Mean Radius:**"
   ]
  },
  {
   "cell_type": "code",
   "execution_count": 3,
   "id": "maritime-christian",
   "metadata": {},
   "outputs": [
    {
     "data": {
      "image/png": "[encoded data removed]",
      "text/plain": [
       "<Figure size 432x288 with 1 Axes>"
      ]
     },
     "metadata": {},
     "output_type": "display_data"
    }
   ],
   "source": [
    "import matplotlib.pyplot as plt\n",
    "with plt.style.context(\"fivethirtyeight\"):\n",
    "    plt.scatter(target, features[\"mean radius\"], s = 3** 2)\n",
    "    plt.xticks([0, 1])\n",
    "    plt.ylabel(\"Mean Radius\")\n",
    "    plt.xlabel(\"0 = benign, 1 = malignent\")"
   ]
  },
  {
   "cell_type": "markdown",
   "id": "sharp-fleet",
   "metadata": {},
   "source": [
    "Despite an overlap between the classes, there's a clear trend that a bigger mean radius has a higher probability of beign malignent: all cell nuclei with mean radius bigger than ~20 are classified as malignent."
   ]
  },
  {
   "cell_type": "markdown",
   "id": "lightweight-constitution",
   "metadata": {},
   "source": [
    "**Comparing the average Worst Area for both classes:**"
   ]
  },
  {
   "cell_type": "code",
   "execution_count": 4,
   "id": "mediterranean-shooting",
   "metadata": {},
   "outputs": [
    {
     "data": {
      "image/png": "[encoded data removed]",
      "text/plain": [
       "<Figure size 432x288 with 1 Axes>"
      ]
     },
     "metadata": {},
     "output_type": "display_data"
    }
   ],
   "source": [
    "mal = comp.loc[comp.target == 0]\n",
    "ben = comp.loc[comp.target == 1]\n",
    "col = \"worst area\"\n",
    "with plt.style.context(\"fivethirtyeight\"):\n",
    "    plt.bar(x = np.arange(2), height = [np.mean(ben[col]), np.mean(mal[col])], width = 0.2, color = [\"#ff9d00\", \"#ff9d00\"])\n",
    "    plt.xticks([0, 1])\n",
    "    plt.ylabel(col)\n",
    "    plt.xlabel(\"0 = benign, 1 = malignent\")"
   ]
  },
  {
   "cell_type": "markdown",
   "id": "radical-dependence",
   "metadata": {},
   "source": [
    "Malignent cells seem to have higher values on average for worst area."
   ]
  },
  {
   "cell_type": "markdown",
   "id": "adverse-gibraltar",
   "metadata": {},
   "source": [
    "**Split and Standardize Data:**"
   ]
  },
  {
   "cell_type": "markdown",
   "id": "imposed-muscle",
   "metadata": {},
   "source": [
    "MLPs are sensitive to feature scaling so it's recommended to scale all features; here using sklearns StandardScaler()"
   ]
  },
  {
   "cell_type": "code",
   "execution_count": 5,
   "id": "important-institution",
   "metadata": {},
   "outputs": [],
   "source": [
    "from sklearn.neural_network import MLPClassifier\n",
    "from sklearn.model_selection import train_test_split\n",
    "X_train, X_test, y_train, y_test = train_test_split(features, target, stratify=target, random_state=1)\n",
    "from sklearn.preprocessing import StandardScaler  \n",
    "scaler = StandardScaler()  \n",
    "scaler.fit(X_train)  \n",
    "X_train = scaler.transform(X_train)  \n",
    "X_test = scaler.transform(X_test)"
   ]
  },
  {
   "cell_type": "markdown",
   "id": "seasonal-property",
   "metadata": {},
   "source": [
    "### Model:"
   ]
  },
  {
   "cell_type": "markdown",
   "id": "distant-charles",
   "metadata": {},
   "source": [
    "**Creating a MLP with two hidden layers with 5 neurons in each of them**"
   ]
  },
  {
   "cell_type": "code",
   "execution_count": 6,
   "id": "brilliant-laugh",
   "metadata": {},
   "outputs": [],
   "source": [
    "clf = MLPClassifier(hidden_layer_sizes = (5, 5), max_iter=1000).fit(X_train, y_train)\n",
    "y_pred = clf.predict(X_test)"
   ]
  },
  {
   "cell_type": "markdown",
   "id": "knowing-prospect",
   "metadata": {},
   "source": [
    "**Evaluating Classification Performance:**"
   ]
  },
  {
   "cell_type": "markdown",
   "id": "voluntary-thunder",
   "metadata": {},
   "source": [
    "Accuaracy:"
   ]
  },
  {
   "cell_type": "code",
   "execution_count": 7,
   "id": "aboriginal-lover",
   "metadata": {
    "scrolled": true
   },
   "outputs": [
    {
     "data": {
      "text/plain": [
       "0.965034965034965"
      ]
     },
     "execution_count": 7,
     "metadata": {},
     "output_type": "execute_result"
    }
   ],
   "source": [
    "from sklearn.metrics import accuracy_score\n",
    "accuracy_score(y_test, y_pred)"
   ]
  },
  {
   "cell_type": "markdown",
   "id": "checked-hearing",
   "metadata": {},
   "source": [
    "Looking at ROC Curve:"
   ]
  },
  {
   "cell_type": "code",
   "execution_count": 8,
   "id": "communist-consultation",
   "metadata": {
    "scrolled": true
   },
   "outputs": [
    {
     "data": {
      "image/png": "[encoded data removed]",
      "text/plain": [
       "<Figure size 432x288 with 1 Axes>"
      ]
     },
     "metadata": {
      "needs_background": "light"
     },
     "output_type": "display_data"
    }
   ],
   "source": [
    "from sklearn.metrics import plot_roc_curve\n",
    "with plt.style.context(\"bmh\"):\n",
    "    plot_roc_curve(clf, X_test, y_test)"
   ]
  },
  {
   "cell_type": "markdown",
   "id": "running-denver",
   "metadata": {},
   "source": [
    "* *In the ROC-curve the optimal point is in the top left corner where all positives have been correctly identified as positive.*"
   ]
  },
  {
   "cell_type": "markdown",
   "id": "gross-conservative",
   "metadata": {},
   "source": [
    "**Looking at the confusion matrix:**"
   ]
  },
  {
   "cell_type": "code",
   "execution_count": 9,
   "id": "excellent-recorder",
   "metadata": {
    "scrolled": true
   },
   "outputs": [
    {
     "data": {
      "text/plain": [
       "<sklearn.metrics._plot.confusion_matrix.ConfusionMatrixDisplay at 0x2982907afd0>"
      ]
     },
     "execution_count": 9,
     "metadata": {},
     "output_type": "execute_result"
    },
    {
     "data": {
      "image/png": "[encoded data removed]",
      "text/plain": [
       "<Figure size 432x288 with 2 Axes>"
      ]
     },
     "metadata": {
      "needs_background": "light"
     },
     "output_type": "display_data"
    }
   ],
   "source": [
    "from sklearn.metrics import plot_confusion_matrix\n",
    "plot_confusion_matrix(clf, X_test, y_test)"
   ]
  },
  {
   "cell_type": "markdown",
   "id": "conventional-mediterranean",
   "metadata": {},
   "source": [
    "* Sensivitiy (True Positive rate) measures the proportion of positives that are correctly identified; here: 49 / 53\n",
    "* Specificity (True Negative rate) measures the proportion of negatives that are correctly identified; here: 89 / 90\n",
    "* Accuracy: proportion of all correctly identified; here: 138 / 143"
   ]
  },
  {
   "cell_type": "markdown",
   "id": "careful-search",
   "metadata": {},
   "source": [
    "In a machine learning context sensitivity is commonly referred to as **recall**."
   ]
  },
  {
   "cell_type": "code",
   "execution_count": 12,
   "id": "pointed-voice",
   "metadata": {},
   "outputs": [
    {
     "data": {
      "text/plain": [
       "True"
      ]
     },
     "execution_count": 12,
     "metadata": {},
     "output_type": "execute_result"
    }
   ],
   "source": [
    "from sklearn.metrics import recall_score\n",
    "recall_score(y_test, y_pred) == 49 / 53"
   ]
  },
  {
   "cell_type": "markdown",
   "id": "otherwise-comparative",
   "metadata": {},
   "source": [
    "**precision** is the proportion of correctly identified positives of all positives(PPV); here: 49 / 50"
   ]
  },
  {
   "cell_type": "code",
   "execution_count": 16,
   "id": "mathematical-darwin",
   "metadata": {},
   "outputs": [
    {
     "data": {
      "text/plain": [
       "True"
      ]
     },
     "execution_count": 16,
     "metadata": {},
     "output_type": "execute_result"
    }
   ],
   "source": [
    "from sklearn.metrics import precision_score\n",
    "precision_score(y_test, y_pred) == 49 / 50"
   ]
  }
 ],
 "metadata": {
  "kernelspec": {
   "display_name": "Python 3",
   "language": "python",
   "name": "python3"
  },
  "language_info": {
   "codemirror_mode": {
    "name": "ipython",
    "version": 3
   },
   "file_extension": ".py",
   "mimetype": "text/x-python",
   "name": "python",
   "nbconvert_exporter": "python",
   "pygments_lexer": "ipython3",
   "version": "3.8.3"
  }
 },
 "nbformat": 4,
 "nbformat_minor": 5
}
